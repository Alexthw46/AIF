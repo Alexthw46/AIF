{
 "cells": [
  {
   "metadata": {},
   "cell_type": "code",
   "source": [
    "import gymnasium as gym\n",
    "import matplotlib.pyplot as plt\n",
    "import minihack\n",
    "from minihack import RewardManager\n",
    "from minihack import LevelGenerator\n",
    "from nle import nethack\n",
    "from utils import *\n",
    "import IPython.display as display\n",
    "import time\n",
    "import numpy as np\n",
    "from typing import List, Tuple, Set\n",
    "from algorithms import *\n",
    "from algorithms_2 import *\n",
    "from MCTS import *"
   ],
   "id": "2cee7292724c468a",
   "outputs": [],
   "execution_count": null
  },
  {
   "metadata": {},
   "cell_type": "code",
   "source": [
    "def stairs_reward_function(env, previous_observation, action, observation):\n",
    "    # Agent is on stairs down\n",
    "    if observation[env._internal_index][4]:\n",
    "        return 1\n",
    "    return 0"
   ],
   "id": "ddf5f1a29d7519e4",
   "outputs": [],
   "execution_count": null
  },
  {
   "cell_type": "code",
   "id": "2389d96d",
   "metadata": {},
   "source": [
    "# Define a 10x10 room and populate it with\n",
    "# different objects, monster and features\n",
    "\n",
    "simple_room = \"\"\"\n",
    "...............\n",
    "...............\n",
    "...............\n",
    "...............\n",
    "...............\n",
    "...............\n",
    "...............\n",
    "...............\n",
    "...............\n",
    "...............\n",
    "\n",
    "\"\"\"\n",
    "lvl_gen = LevelGenerator(w=10, h=10)\n",
    "lvl_gen.set_start_pos((0, 0))\n",
    "lvl_gen.add_object(\"apple\", \"%\", place=(5, 7))\n",
    "lvl_gen.add_object(\"apple\", \"%\", place=(3, 6))\n",
    "lvl_gen.add_object(\"apple\", \"%\", place=(5, 2))\n",
    "lvl_gen.add_object(\"apple\", \"%\", place=(7, 9))\n",
    "lvl_gen.add_stair_down(place=(7, 7))\n",
    "\n",
    "MOVE_ACTIONS = tuple(nethack.CompassDirection)\n",
    "ACTIONS = MOVE_ACTIONS + (nethack.Command.EAT, nethack.Command.PICKUP, nethack.Command.INVENTORY) + tuple(\n",
    "    range(ord('a'), ord('z') + 1))\n",
    "\n",
    "# Define a reward manager\n",
    "reward_manager = RewardManager()\n",
    "# +1 reward and termination for eating\n",
    "# an apple\n",
    "reward_manager.add_eat_event(\"apple\", reward=0.75, repeatable=True, terminal_required=False, terminal_sufficient=False)\n",
    "# Will never be achieved, but insures the environment keeps running\n",
    "reward_manager.add_message_event(\n",
    "    [\"Mission Complete.\"],\n",
    "    terminal_required=True,\n",
    "    terminal_sufficient=True,\n",
    ")\n",
    "reward_manager.add_custom_reward_fn(stairs_reward_function)\n",
    "env = gym.make(\n",
    "    \"MiniHack-Skill-Custom-v0\",\n",
    "    des_file=lvl_gen.get_des(),\n",
    "    reward_manager=reward_manager,\n",
    "    observation_keys=(\"glyphs\", \"chars\", \"colors\", 'screen_descriptions', 'inv_strs', 'blstats', 'message', 'pixel'),\n",
    "    actions=ACTIONS,\n",
    "    penalty_time = -0.1\n",
    ")\n",
    "obs, info = env.reset()  # each reset generates a new environment instance\n",
    "env.render()"
   ],
   "outputs": [],
   "execution_count": null
  },
  {
   "cell_type": "code",
   "id": "e755ff6c",
   "metadata": {},
   "source": [
    "plt.imshow(obs['pixel'][100:280, 535:710])"
   ],
   "outputs": [],
   "execution_count": null
  },
  {
   "cell_type": "code",
   "id": "ba447edd158c4cde",
   "metadata": {},
   "source": [
    "\n",
    "state, _ = env.reset()\n",
    "game_map = state['chars']\n",
    "game = state['pixel']\n",
    "start = get_player_location(game_map)\n",
    "target = get_target_location(game_map)\n",
    "\n",
    "char_map = np.vectorize(chr)(game_map)\n",
    "apple_positions = np.where(char_map == '%')\n",
    "# zip into a list of int tuples (x, y)\n",
    "apple_positions = list(zip(apple_positions[0], apple_positions[1]))\n",
    "print(\"Apple positions:\", apple_positions)"
   ],
   "outputs": [],
   "execution_count": null
  },
  {
   "cell_type": "code",
   "id": "86f6c9f1",
   "metadata": {},
   "source": [
    "path = mcts(game_map, start, target, set(apple_positions), iterations=10000)\n",
    "\n",
    "# Optional: Convert numpy types (if needed)\n",
    "path = [(int(x), int(y)) for x, y in path]\n",
    "\n",
    "print(\"MCTS path:\", path)\n",
    "actions = actions_from_path(start, path[1:])\n",
    "simulate_path(path, game_map, actions)"
   ],
   "outputs": [],
   "execution_count": null
  },
  {
   "cell_type": "code",
   "id": "16cd30693d88718c",
   "metadata": {},
   "source": [
    "path = a_star_collect_apples(game_map, start, target, set(apple_positions))\n",
    "path = [state[0] for state in path]\n",
    "path = [(int(x), int(y)) for (x, y) in path]\n",
    "actions = actions_from_path(start, path[1:])\n",
    "simulate_path(path, game_map, actions)"
   ],
   "outputs": [],
   "execution_count": null
  },
  {
   "metadata": {},
   "cell_type": "code",
   "source": [
    "path = a_star_apple(game_map, start, target, manhattan_distance, apple_bonus=3)\n",
    "actions = actions_from_path(start, path[1:])\n",
    "simulate_path(path, game_map, actions)"
   ],
   "id": "d79e6ec29be3f12e",
   "outputs": [],
   "execution_count": null
  },
  {
   "metadata": {},
   "cell_type": "code",
   "source": [
    "score, path = beam_search_path_planner(game_map, start, target, apple_positions, beam_width=5, apple_reward=7.5)\n",
    "actions = actions_from_path(start, path[1:])\n",
    "simulate_path(path, game_map, actions)"
   ],
   "id": "e3d45240afe77b8c",
   "outputs": [],
   "execution_count": null
  },
  {
   "cell_type": "code",
   "id": "e32a0f1cd10e00a",
   "metadata": {},
   "source": [
    "PICKUP = env.unwrapped.actions.index(nethack.Command.PICKUP)\n",
    "EAT = env.unwrapped.actions.index(nethack.Command.EAT)\n",
    "INVENTORY = env.unwrapped.actions.index(nethack.Command.INVENTORY)\n",
    "\n",
    "\n",
    "def check_and_eat_apple(state, env):\n",
    "    \"\"\"\n",
    "    Check if the player is on an apple and eat it.\n",
    "    \"\"\"\n",
    "    game_map = state['chars']\n",
    "    player_location = get_player_location(game_map)\n",
    "    if player_location in apple_positions:\n",
    "        # Pick up the apple\n",
    "        print(\"Found apple at:\", player_location)\n",
    "        s, _, done, _, dic = env.step(PICKUP)\n",
    "        print(\"ACTION_TAKEN: PICKUP\")\n",
    "\n",
    "        s, _, done, _, dic = env.step(EAT)\n",
    "        # What do you want to eat?[g or *]\n",
    "        msg = bytes(s['message']).decode('utf-8').rstrip('\\x00')\n",
    "        print(msg)\n",
    "        food_char = msg.split('[')[1][0]  # Because of the way the message in NetHack works\n",
    "\n",
    "        # print(\"Food character to eat:\", food_char)\n",
    "        # Eat the apple\n",
    "        # Open inventory to find the apple letter\n",
    "        s, reward, done, boh, dic = env.step(env.unwrapped.actions.index(ord(food_char)))\n",
    "        print(\"ACTION_TAKEN: EAT\", food_char)\n",
    "        msg = bytes(s['message']).decode('utf-8').rstrip('\\x00')\n",
    "        print(msg)\n",
    "        return s, reward, done, boh, dic\n",
    "\n",
    "    # If not on an apple, just return the state\n",
    "    return state, 0, False, None, None\n"
   ],
   "outputs": [],
   "execution_count": null
  },
  {
   "cell_type": "code",
   "id": "18339e56d8567a4f",
   "metadata": {},
   "source": [
    "env.reset()\n",
    "image = plt.imshow(game[:, 300:975])\n",
    "tot_reward = 0\n",
    "for action in actions:\n",
    "    s, reward, done, _, dic = env.step(action)\n",
    "    tot_reward += reward\n",
    "    if not done:\n",
    "        # check and eat apple\n",
    "        s, reward, _, _, _ = check_and_eat_apple(s, env)\n",
    "        tot_reward += reward\n",
    "        display.display(plt.gcf())\n",
    "        print(\"Reward:\", tot_reward)\n",
    "        display.clear_output(wait=True)\n",
    "        time.sleep(0.5)\n",
    "        image.set_data(s['pixel'][:, 300:975])\n",
    "        print(\"Action taken:\", directions[action])\n",
    "    else:\n",
    "        print(f\"Episode finished:\", dic)\n",
    "        print(\"Reward:\", tot_reward)\n",
    "        break\n"
   ],
   "outputs": [],
   "execution_count": null
  },
  {
   "cell_type": "code",
   "id": "781ed9e218b6b0bd",
   "metadata": {},
   "source": [],
   "outputs": [],
   "execution_count": null
  },
  {
   "cell_type": "code",
   "id": "b165211e4af9a5ab",
   "metadata": {},
   "source": [],
   "outputs": [],
   "execution_count": null
  }
 ],
 "metadata": {
  "kernelspec": {
   "display_name": "minihack",
   "language": "python",
   "name": "python3"
  },
  "language_info": {
   "codemirror_mode": {
    "name": "ipython",
    "version": 3
   },
   "file_extension": ".py",
   "mimetype": "text/x-python",
   "name": "python",
   "nbconvert_exporter": "python",
   "pygments_lexer": "ipython3",
   "version": "3.8.20"
  }
 },
 "nbformat": 4,
 "nbformat_minor": 5
}
