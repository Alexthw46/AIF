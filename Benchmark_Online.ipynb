{
 "cells": [
  {
   "cell_type": "code",
   "execution_count": null,
   "id": "5d6f714e33f0b399",
   "metadata": {
    "ExecuteTime": {
     "end_time": "2025-06-30T14:44:39.086160Z",
     "start_time": "2025-06-30T14:44:34.674502Z"
    }
   },
   "outputs": [],
   "source": [
    "from simulator import *\n",
    "\n",
    "seeds = [0, 101, 202, 303, 404, 505, 606, 707, 808, 909]"
   ]
  },
  {
   "cell_type": "markdown",
   "id": "ab5499d03600a2ad",
   "metadata": {},
   "source": [
    "# Simple Maze Environment\n"
   ]
  },
  {
   "cell_type": "code",
   "execution_count": null,
   "id": "3b1bae90fe37a348",
   "metadata": {
    "ExecuteTime": {
     "end_time": "2025-06-30T14:44:39.247190Z",
     "start_time": "2025-06-30T14:44:39.127392Z"
    }
   },
   "outputs": [],
   "source": [
    "simple_maze = \"\"\"\n",
    "||||||||||||||||||||||\n",
    "|....................|\n",
    "|..|||||.....|..|....|\n",
    "|..|   |...||||||||..|\n",
    "|..||| |........|....|\n",
    "|.....| |||||||.|||..|\n",
    "|.....|       |.|....|\n",
    "|.....|       |......|\n",
    "|||||||  ||||||......|\n",
    "         |.......|...|\n",
    "         |.......|||.|\n",
    "         |...........|\n",
    "         |||||||||||||\n",
    "\"\"\"\n",
    "\n",
    "\n",
    "def simple_env_generator(seed):\n",
    "    return create_env(make_map(simple_maze, 5, premapped=False, start=(3, 6), stairs=(10, 10), seed=seed),\n",
    "                      apple_reward=1,\n",
    "                      penalty_time=-0.01)\n",
    "\n",
    "\n",
    "simple_env = simple_env_generator(0)\n",
    "simple_env.reset()\n",
    "simple_env.render()"
   ]
  },
  {
   "cell_type": "markdown",
   "id": "ff06d4b36bf037a6",
   "metadata": {},
   "source": [
    "# Complex Maze Environment"
   ]
  },
  {
   "cell_type": "code",
   "execution_count": null,
   "id": "5446b95f5bce601a",
   "metadata": {
    "ExecuteTime": {
     "end_time": "2025-06-30T14:44:39.443043Z",
     "start_time": "2025-06-30T14:44:39.349793Z"
    }
   },
   "outputs": [],
   "source": [
    "complex_maze = \"\"\"\n",
    "               |||||||||||||||||\n",
    " ||||||||||    |...............|\n",
    " |........|    |............|..|\n",
    " |........|    |............|..|\n",
    " ||||||...|    |..|||||..||||..|\n",
    "      |...|    |..|   |........|\n",
    "      |...|    |..|   |........|  ||||||\n",
    "|||||||...||||||..|   |.....||||  |....|\n",
    "|.................|   |.....|     |....|\n",
    "|...||||....|..|..|   |.....|||||||....|\n",
    "|....| |..|||||||.|   |................|\n",
    "|....| |.......|..|   |................|\n",
    "|....| |||||||.||.|   |....||||||||....|\n",
    "|....|       |.|..|   |....|      |....|\n",
    "|....|       |....|   |....||||   |....|\n",
    "||||||  ||||||....|   |.......|   ||||||\n",
    "        |......|..|   |.......|\n",
    "        |......||.|   |.......|\n",
    "        |.........|   |||||||||\n",
    "        |||||||||||\n",
    "\"\"\"\n",
    "\n",
    "\n",
    "def complex_env_generator(seed):\n",
    "    return create_env(make_map(complex_maze, 5, premapped=False, start=(3, 6), stairs=(37, 13), seed=seed),\n",
    "                      apple_reward=1,\n",
    "                      penalty_time=-0.01)\n",
    "\n",
    "\n",
    "complex_env = complex_env_generator(0)\n",
    "complex_env.reset()\n",
    "complex_env.render()"
   ]
  },
  {
   "cell_type": "markdown",
   "id": "8890ef23784a6f0a",
   "metadata": {},
   "source": [
    "# Benchmarking Online Algorithms\n",
    "\n",
    "The simulation code have been adapted to not rely on a fixed, fully observable map, but rather to generate the path dynamically based on the current state of the environment. This allows for more flexibility and adaptability in the pathfinding algorithms but comes with a performance cost due to the need to recompute the path at each step.\n",
    "\n",
    "As the stairs won't be visible until the agent reaches the end of the maze, we will use a Frontier Search algorithm to decide the target position to explore the environment. Once again, we will use the same algorithms as in the offline benchmark to path to the chosen target, to see which one manage to find the stairs first and collect the most apples along the way.\n",
    "\n"
   ]
  },
  {
   "cell_type": "markdown",
   "id": "bc849c4b911f659",
   "metadata": {},
   "source": [
    "## A* Star Online Algorithm"
   ]
  },
  {
   "cell_type": "code",
   "execution_count": null,
   "id": "b8d8de67baf915bc",
   "metadata": {
    "ExecuteTime": {
     "end_time": "2025-06-30T14:44:39.695229Z",
     "start_time": "2025-06-30T14:44:39.660349Z"
    }
   },
   "outputs": [],
   "source": [
    "from algorithms_online import planner_online\n",
    "from algorithms import a_star_apple\n",
    "import numpy as np"
   ]
  },
  {
   "cell_type": "code",
   "execution_count": null,
   "id": "33b3f79eb629fb3",
   "metadata": {
    "ExecuteTime": {
     "end_time": "2025-06-29T15:56:44.663288Z",
     "start_time": "2025-06-29T15:53:24.679132Z"
    }
   },
   "outputs": [],
   "source": [
    "param_grid = {\n",
    "    'weight': np.linspace(0.2, 2, 5),\n",
    "    'apple_bonus': np.linspace(0.5, 5, 5)\n",
    "}\n",
    "\n",
    "a_star_apple_df = benchmark_simulation(simple_env_generator, planner_online, seeds, param_grid,\n",
    "                                       online=True, planner_func=a_star_apple)"
   ]
  },
  {
   "cell_type": "code",
   "execution_count": null,
   "id": "3404dce8ff9a9a35",
   "metadata": {
    "ExecuteTime": {
     "end_time": "2025-06-29T15:56:44.802635Z",
     "start_time": "2025-06-29T15:56:44.751900Z"
    }
   },
   "outputs": [],
   "source": [
    "a_star_online_avg = a_star_apple_df.groupby(['weight', 'apple_bonus']).agg(\n",
    "    avg_reward=('reward', 'mean'),\n",
    "    avg_path_length=('path_length', 'mean'),\n",
    "    avg_apples=('apples_eaten', 'mean'),\n",
    "    success_rate=('success', 'mean'), \n",
    "    avg_planning_time = ('planning_time','mean')\n",
    ").reset_index()\n",
    "a_star_online_avg"
   ]
  },
  {
   "cell_type": "code",
   "execution_count": null,
   "id": "aee33458fe99cf12",
   "metadata": {
    "ExecuteTime": {
     "end_time": "2025-06-29T16:03:44.191273Z",
     "start_time": "2025-06-29T15:56:44.926450Z"
    }
   },
   "outputs": [],
   "source": [
    "a_star_apple_df_complex = benchmark_simulation(complex_env_generator, planner_online, seeds, param_grid,\n",
    "                                               online=True, planner_func=a_star_apple)\n",
    "a_star_online_complex_avg = a_star_apple_df_complex.groupby(['weight', 'apple_bonus']).agg(\n",
    "    avg_reward=('reward', 'mean'),\n",
    "    avg_path_length=('path_length', 'mean'),\n",
    "    avg_apples=('apples_eaten', 'mean'),\n",
    "    success_rate=('success', 'mean'),\n",
    "    avg_planning_time = ('planning_time','mean')\n",
    ").reset_index()\n",
    "a_star_online_complex_avg"
   ]
  },
  {
   "cell_type": "markdown",
   "id": "d39498ce29569623",
   "metadata": {},
   "source": [
    "## Monte Carlo Tree Search Online Algorithm"
   ]
  },
  {
   "cell_type": "code",
   "execution_count": null,
   "id": "59c29498b9b6a319",
   "metadata": {
    "ExecuteTime": {
     "end_time": "2025-06-29T16:06:29.420331Z",
     "start_time": "2025-06-29T16:03:44.452138Z"
    }
   },
   "outputs": [],
   "source": [
    "from MCTS import mcts\n",
    "\n",
    "param_grid = {\n",
    "    'C': np.linspace(1.0, 5.0, 5),\n",
    "}\n",
    "\n",
    "mcts_df = benchmark_simulation(simple_env_generator, planner_online, seeds, param_grid,\n",
    "                               online=True, planner_func=mcts)\n"
   ]
  },
  {
   "cell_type": "code",
   "execution_count": null,
   "id": "63416bdec7905ee1",
   "metadata": {
    "ExecuteTime": {
     "end_time": "2025-06-29T16:06:29.623432Z",
     "start_time": "2025-06-29T16:06:29.589296Z"
    }
   },
   "outputs": [],
   "source": [
    "mcts_online_avg = mcts_df.groupby(['C']).agg(\n",
    "    avg_reward=('reward', 'mean'),\n",
    "    avg_path_length=('path_length', 'mean'),\n",
    "    avg_apples=('apples_eaten', 'mean'),\n",
    "    success_rate=('success', 'mean'),\n",
    "    avg_planning_time = ('planning_time','mean')\n",
    ").reset_index()\n",
    "mcts_online_avg"
   ]
  },
  {
   "cell_type": "code",
   "execution_count": null,
   "id": "40df96bf8dadd9d2",
   "metadata": {
    "ExecuteTime": {
     "end_time": "2025-06-29T16:13:01.942631Z",
     "start_time": "2025-06-29T16:06:29.742151Z"
    }
   },
   "outputs": [],
   "source": [
    "mcts_online_complex_df = benchmark_simulation(complex_env_generator, planner_online, seeds, param_grid,\n",
    "                                              online=True, planner_func=mcts)\n",
    "mcts_online_complex_avg = mcts_online_complex_df.groupby(['C']).agg(\n",
    "    avg_reward=('reward', 'mean'),\n",
    "    avg_path_length=('path_length', 'mean'),\n",
    "    avg_apples=('apples_eaten', 'mean'),\n",
    "    success_rate=('success', 'mean'),\n",
    "    avg_planning_time = ('planning_time','mean')\n",
    ").reset_index()\n",
    "mcts_online_complex_avg"
   ]
  },
  {
   "cell_type": "markdown",
   "id": "3d4d479f6187e8ce",
   "metadata": {},
   "source": [
    "## Greedy Best First Search Online Algorithm"
   ]
  },
  {
   "cell_type": "code",
   "execution_count": null,
   "id": "2bdda0c2fa0a62af",
   "metadata": {
    "ExecuteTime": {
     "end_time": "2025-06-30T14:39:32.473187Z",
     "start_time": "2025-06-30T14:39:15.587167Z"
    }
   },
   "outputs": [],
   "source": [
    "from utils import cached_bfs, manhattan_distance\n",
    "from algorithms import greedy_best_first_search\n",
    "\n",
    "param_grid = {\n",
    "    'heuristic': [cached_bfs, manhattan_distance],\n",
    "}\n",
    "\n",
    "simple_greedy_df = benchmark_simulation(simple_env_generator, planner_online, seeds, param_grid,\n",
    "                                        planner_func=greedy_best_first_search, online=True)"
   ]
  },
  {
   "cell_type": "code",
   "execution_count": null,
   "id": "db3e1b1e39f66d74",
   "metadata": {
    "ExecuteTime": {
     "end_time": "2025-06-30T14:39:32.604351Z",
     "start_time": "2025-06-30T14:39:32.571875Z"
    }
   },
   "outputs": [],
   "source": [
    "# convert the heuristic to a string for better readability\n",
    "simple_greedy_df['heuristic'] = simple_greedy_df['heuristic'].apply(lambda x: x.__name__ if callable(x) else str(x))\n",
    "\n",
    "simple_greedy_df_avg = simple_greedy_df.groupby(['heuristic']).agg(\n",
    "    avg_reward=('reward', 'mean'),\n",
    "    avg_path_length=('path_length', 'mean'),\n",
    "    avg_apples=('apples_eaten', 'mean'),\n",
    "    success_rate=('success', 'mean'),\n",
    "    avg_planning_time = ('planning_time','mean')\n",
    ").reset_index()\n",
    "simple_greedy_df_avg"
   ]
  },
  {
   "cell_type": "code",
   "execution_count": null,
   "id": "f7c28033a970badb",
   "metadata": {
    "ExecuteTime": {
     "end_time": "2025-06-30T14:41:18.678634Z",
     "start_time": "2025-06-30T14:40:53.938615Z"
    }
   },
   "outputs": [],
   "source": [
    "complex_greedy_df = benchmark_simulation(complex_env_generator, planner_online, seeds, param_grid,\n",
    "                                         planner_func=greedy_best_first_search, online=True)\n",
    "complex_greedy_df['heuristic'] = complex_greedy_df['heuristic'].apply(lambda x: x.__name__ if callable(x) else str(x))\n",
    "complex_greedy_df_avg = complex_greedy_df.groupby(['heuristic']).agg(\n",
    "    avg_reward=('reward', 'mean'),\n",
    "    avg_path_length=('path_length', 'mean'),\n",
    "    avg_apples=('apples_eaten', 'mean'),\n",
    "    success_rate=('success', 'mean'),\n",
    "    avg_planning_time = ('planning_time','mean')\n",
    ").reset_index()\n",
    "complex_greedy_df_avg"
   ]
  },
  {
   "cell_type": "markdown",
   "id": "88934c0f0331de3b",
   "metadata": {},
   "source": [
    "## Potential Fields Online Algorithm"
   ]
  },
  {
   "cell_type": "code",
   "execution_count": null,
   "id": "e6bc58c308e68e6a",
   "metadata": {
    "ExecuteTime": {
     "end_time": "2025-06-30T14:47:04.097520Z",
     "start_time": "2025-06-30T14:45:06.096872Z"
    }
   },
   "outputs": [],
   "source": [
    "from algorithms import potential_field_path\n",
    "\n",
    "param_grid = {\n",
    "    'weight_apple': np.linspace(.1, .3, 5),\n",
    "    'modality_potential': ['max', 'sum']\n",
    "}\n",
    "\n",
    "potential_field_df = benchmark_simulation(simple_env_generator, planner_online, seeds, param_grid,\n",
    "                                          online=True, planner_func=potential_field_path)\n",
    "\n",
    "potential_field_online_avg = potential_field_df.groupby(['weight_apple', 'modality_potential']).agg(\n",
    "    avg_reward=('reward', 'mean'),\n",
    "    avg_path_length=('path_length', 'mean'),\n",
    "    avg_apples=('apples_eaten', 'mean'),\n",
    "    success_rate=('success', 'mean'),\n",
    "    avg_planning_time = ('planning_time','mean')\n",
    ").reset_index()\n",
    "potential_field_online_avg"
   ]
  },
  {
   "cell_type": "code",
   "execution_count": null,
   "id": "359c4d61fab68b23",
   "metadata": {
    "ExecuteTime": {
     "end_time": "2025-06-30T14:49:39.545604Z",
     "start_time": "2025-06-30T14:47:04.230185Z"
    }
   },
   "outputs": [],
   "source": [
    "potential_field_df_complex = benchmark_simulation(complex_env_generator, planner_online, seeds, param_grid,\n",
    "                                                  online=True, planner_func=potential_field_path)\n",
    "\n",
    "potential_field_online_avg_complex = potential_field_df_complex.groupby(['weight_apple', 'modality_potential']).agg(\n",
    "    avg_reward=('reward', 'mean'),\n",
    "    avg_path_length=('path_length', 'mean'),\n",
    "    avg_apples=('apples_eaten', 'mean'),\n",
    "    success_rate=('success', 'mean'),\n",
    "    avg_planning_time = ('planning_time','mean')\n",
    ").reset_index()\n",
    "\n",
    "potential_field_online_avg_complex"
   ]
  },
  {
   "cell_type": "markdown",
   "id": "145da80720c21062",
   "metadata": {},
   "source": [
    "## Beam Search Online Algorithm"
   ]
  },
  {
   "cell_type": "code",
   "execution_count": null,
   "id": "7219270883257e1",
   "metadata": {
    "ExecuteTime": {
     "end_time": "2025-06-30T13:21:10.705532Z",
     "start_time": "2025-06-30T13:10:10.990921Z"
    }
   },
   "outputs": [],
   "source": [
    "from algorithms import beam_search_apple\n",
    "import numpy as np\n",
    "\n",
    "param_grid = {\n",
    "    'beam_width': np.arange(4, 11),  # from 4 to 10\n",
    "    'apple_reward': np.arange(3, 11)  # from 3 to 10\n",
    "}\n",
    "\n",
    "beam_online_df = benchmark_simulation(simple_env_generator, planner_online, seeds, param_grid,\n",
    "                                      online=True, planner_func=beam_search_apple)\n",
    "beam_online_df_mean = beam_online_df.groupby(['beam_width', 'apple_reward']).agg(\n",
    "    avg_reward=('reward', 'mean'),\n",
    "    avg_path_length=('path_length', 'mean'),\n",
    "    success_rate=('success', 'mean'),\n",
    "    avg_apples=('apples_eaten', 'mean'),\n",
    "    avg_planning_time = ('planning_time','mean')\n",
    ").reset_index()\n",
    "\n",
    "# print the combinations with a success rate less than 1\n",
    "beam_online_df_mean"
   ]
  },
  {
   "cell_type": "code",
   "execution_count": null,
   "id": "c9205047b1ef5a97",
   "metadata": {},
   "outputs": [],
   "source": [
    "param_grid = {\n",
    "    'beam_width': np.arange(4, 9),  # from 4 to 10\n",
    "    'apple_reward': np.arange(3, 7)  # from 3 to 10\n",
    "}\n",
    "\n",
    "beam_online_df_complex = benchmark_simulation(complex_env_generator, planner_online, seeds, param_grid,\n",
    "                                              online=True, planner_func=beam_search_apple)"
   ]
  },
  {
   "cell_type": "code",
   "execution_count": null,
   "id": "18c71c1e98fc31eb",
   "metadata": {
    "ExecuteTime": {
     "end_time": "2025-06-30T14:08:46.954166Z",
     "start_time": "2025-06-30T14:08:46.912750Z"
    }
   },
   "outputs": [],
   "source": [
    "beam_online_df_complex_mean = beam_online_df_complex.groupby(['beam_width', 'apple_reward']).agg(\n",
    "    avg_reward=('reward', 'mean'),\n",
    "    avg_path_length=('path_length', 'mean'),\n",
    "    success_rate=('success', 'mean'),\n",
    "    avg_apples=('apples_eaten', 'mean'),\n",
    "    avg_planning_time = ('planning_time','mean')\n",
    ").reset_index()\n",
    "\n",
    "beam_online_df_complex_mean"
   ]
  },
  {
   "cell_type": "code",
   "execution_count": null,
   "id": "cfe42082600d8f0b",
   "metadata": {},
   "outputs": [],
   "source": []
  }
 ],
 "metadata": {
  "kernelspec": {
   "display_name": "mh",
   "language": "python",
   "name": "python3"
  },
  "language_info": {
   "codemirror_mode": {
    "name": "ipython",
    "version": 3
   },
   "file_extension": ".py",
   "mimetype": "text/x-python",
   "name": "python",
   "nbconvert_exporter": "python",
   "pygments_lexer": "ipython3",
   "version": "3.12.11"
  }
 },
 "nbformat": 4,
 "nbformat_minor": 5
}
