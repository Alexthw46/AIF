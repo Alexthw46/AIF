{
 "cells": [
  {
   "metadata": {},
   "cell_type": "code",
   "source": "from simulator import *",
   "id": "5d6f714e33f0b399",
   "outputs": [],
   "execution_count": null
  },
  {
   "metadata": {},
   "cell_type": "markdown",
   "source": "# Simple Maze Environment\n",
   "id": "ab5499d03600a2ad"
  },
  {
   "metadata": {},
   "cell_type": "code",
   "source": [
    "simple_maze = \"\"\"\n",
    "||||||||||||||||||||||\n",
    "|....................|\n",
    "|..|||||.....|..|....|\n",
    "|..|   |...||||||||..|\n",
    "|..||| |........|....|\n",
    "|.....| |||||||.|||..|\n",
    "|.....|       |.|....|\n",
    "|.....|       |......|\n",
    "|||||||  ||||||......|\n",
    "         |.......|...|\n",
    "         |.......|||.|\n",
    "         |...........|\n",
    "         |||||||||||||\n",
    "\"\"\"\n",
    "\n",
    "simple_env = create_env(make_map(simple_maze, 5, premapped=False, start=(3, 6), stairs=(10, 10)), apple_reward=5,\n",
    "                        penalty_time=-0.1)"
   ],
   "id": "3b1bae90fe37a348",
   "outputs": [],
   "execution_count": null
  },
  {
   "metadata": {},
   "cell_type": "markdown",
   "source": "# Complex Maze Environment",
   "id": "ff06d4b36bf037a6"
  },
  {
   "metadata": {},
   "cell_type": "code",
   "source": [
    "complex_maze = \"\"\"\n",
    "               |||||||||||||||||\n",
    " ||||||||||    |...............|\n",
    " |........|    |............|..|\n",
    " |........|    |............|..|\n",
    " ||||||...|    |..|||||..||||..|\n",
    "      |...|    |..|   |........|\n",
    "      |...|    |..|   |........|  ||||||\n",
    "|||||||...||||||..|   |.....||||  |....|\n",
    "|.................|   |.....|     |....|\n",
    "|...||||....|..|..|   |.....|||||||....|\n",
    "|....| |..|||||||.|   |................|\n",
    "|....| |.......|..|   |................|\n",
    "|....| |||||||.||.|   |....||||||||....|\n",
    "|....|       |.|..|   |....|      |....|\n",
    "|....|       |....|   |....||||   |....|\n",
    "||||||  ||||||....|   |.......|   ||||||\n",
    "        |......|..|   |.......|\n",
    "        |......||.|   |.......|\n",
    "        |.........|   |||||||||\n",
    "        |||||||||||\n",
    "\"\"\"\n",
    "\n",
    "complex_env = create_env(make_map(complex_maze, 5, premapped=False, start=(3, 6), stairs=(37, 13)), apple_reward=5,\n",
    "                         penalty_time=-0.1)"
   ],
   "id": "5446b95f5bce601a",
   "outputs": [],
   "execution_count": null
  },
  {
   "metadata": {},
   "cell_type": "markdown",
   "source": [
    "# Benchmarking Online Algorithms\n",
    "\n",
    "The simulation code have been adapted to not rely on a fixed, fully observable map, but rather to generate the path dynamically based on the current state of the environment. This allows for more flexibility and adaptability in the pathfinding algorithms but comes with a performance cost due to the need to recompute the path at each step.\n",
    "\n",
    "As the stairs won't be visible until the agent reaches the end of the maze, we will use a Frontier Search algorithm to decide the target position to explore the environment. Once again, we will use the same algorithms as in the offline benchmark to path to the chosen target, to see which one manage to find the stairs first and collect the most apples along the way.\n",
    "\n"
   ],
   "id": "8890ef23784a6f0a"
  },
  {
   "metadata": {},
   "cell_type": "markdown",
   "source": "## A* Star Online Algorithm",
   "id": "bc849c4b911f659"
  },
  {
   "metadata": {},
   "cell_type": "markdown",
   "source": "## Monte Carlo Tree Search Online Algorithm",
   "id": "d39498ce29569623"
  },
  {
   "metadata": {},
   "cell_type": "markdown",
   "source": "## Greedy Best First Search Online Algorithm",
   "id": "3d4d479f6187e8ce"
  },
  {
   "metadata": {},
   "cell_type": "markdown",
   "source": "## Potential Fields Online Algorithm",
   "id": "88934c0f0331de3b"
  },
  {
   "metadata": {},
   "cell_type": "markdown",
   "source": "## Beam Search Online Algorithm",
   "id": "145da80720c21062"
  }
 ],
 "metadata": {
  "kernelspec": {
   "display_name": "Python 3",
   "language": "python",
   "name": "python3"
  },
  "language_info": {
   "codemirror_mode": {
    "name": "ipython",
    "version": 2
   },
   "file_extension": ".py",
   "mimetype": "text/x-python",
   "name": "python",
   "nbconvert_exporter": "python",
   "pygments_lexer": "ipython2",
   "version": "2.7.6"
  }
 },
 "nbformat": 4,
 "nbformat_minor": 5
}
