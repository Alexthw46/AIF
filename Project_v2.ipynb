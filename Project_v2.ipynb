{
 "cells": [
  {
   "cell_type": "code",
   "id": "19020373b957fad9",
   "metadata": {},
   "source": [
    "from MCTS import *\n",
    "from algorithms import *\n",
    "from simulator import *"
   ],
   "outputs": [],
   "execution_count": null
  },
  {
   "cell_type": "code",
   "id": "initial_id",
   "metadata": {},
   "source": [
    "lava_maze = \"\"\"\n",
    "-----------------\n",
    "|..L....L....L..|\n",
    "|..L..LLL..L.LL.|\n",
    "|..L..L.......L.|\n",
    "|.....L.....L...|\n",
    "|..L....L....L..|\n",
    "|..LLL..L.LLLL..|\n",
    "|..L.L..L..L....|\n",
    "|..L....L....L..|\n",
    "|.....L.....L...|\n",
    "-----------------\n",
    "\"\"\"\n",
    "\n",
    "simple_room = \"\"\"\n",
    "...............\n",
    "...............\n",
    "...............\n",
    "...............\n",
    "...............\n",
    "...............\n",
    "...............\n",
    "...............\n",
    "...............\n",
    "...............\n",
    "\n",
    "\"\"\""
   ],
   "outputs": [],
   "execution_count": null
  },
  {
   "cell_type": "code",
   "id": "a94f91b6128195fc",
   "metadata": {},
   "source": [
    "map = make_map(map_str=lava_maze, n_apples=5, seed=18)\n",
    "print(map)"
   ],
   "outputs": [],
   "execution_count": null
  },
  {
   "cell_type": "code",
   "id": "eae1b1a5a2567c86",
   "metadata": {},
   "source": [
    "env = create_env(map, apple_reward=0.75, penalty_time=-0.1)\n",
    "env.reset()\n",
    "env.render()"
   ],
   "outputs": [],
   "execution_count": null
  },
  {
   "cell_type": "code",
   "id": "f509047a97d86141",
   "metadata": {},
   "source": [
    "# A star with bonus to tiles that have apples nearby\n",
    "simulate_with_heuristic(env, a_star_apple, h=manhattan_distance, apple_bonus=3)"
   ],
   "outputs": [],
   "execution_count": null
  },
  {
   "cell_type": "code",
   "id": "0918e500-3954-46a4-896f-234c718cc5e8",
   "metadata": {},
   "source": [
    "# A* with modified heuristic that considers the distance to apples then stairs\n",
    "simulate_with_heuristic(env, a_star_collect_apples, weight=1)"
   ],
   "outputs": [],
   "execution_count": null
  },
  {
   "cell_type": "code",
   "id": "7dbb59f83c8011b9",
   "metadata": {},
   "source": [
    "# Monte Carlo with Random\n",
    "simulate_with_heuristic(\n",
    "    env, mcts, iterations=50000\n",
    ")"
   ],
   "outputs": [],
   "execution_count": null
  },
  {
   "cell_type": "code",
   "id": "f5e68143bd52207b",
   "metadata": {},
   "source": [
    "# Monte Carlo Tree Search with heuristic\n",
    "simulate_with_heuristic(\n",
    "    env, mcts, iterations=50000,\n",
    ")"
   ],
   "outputs": [],
   "execution_count": null
  },
  {
   "cell_type": "code",
   "id": "837acc3a75859c72",
   "metadata": {},
   "source": [
    "# Beam Search\n",
    "simulate_with_heuristic(\n",
    "    env, beam_search_apple, apple_reward=7.5,\n",
    "    beam_width=5\n",
    ")"
   ],
   "outputs": [],
   "execution_count": null
  },
  {
   "cell_type": "code",
   "id": "4f84422d35c7d493",
   "metadata": {},
   "source": [
    "# Potential fields\n",
    "simulate_with_heuristic(\n",
    "    env, potential_field_path\n",
    ")"
   ],
   "outputs": [],
   "execution_count": null
  },
  {
   "metadata": {},
   "cell_type": "code",
   "source": [
    "simulate_with_heuristic(\n",
    "    env, greedy_best_first_search\n",
    ")"
   ],
   "id": "c969b3bb23fdd335",
   "outputs": [],
   "execution_count": null
  },
  {
   "metadata": {},
   "cell_type": "markdown",
   "id": "a820837e42ef1547",
   "source": "# Online Pathfinding Algorithms"
  },
  {
   "metadata": {},
   "cell_type": "code",
   "source": [
    "from algorithms_online import *\n",
    "from simulator import *\n",
    "\n",
    "lava_maze = \"\"\"\n",
    "-----------------\n",
    "|..L....L....L..|\n",
    "|..L..LLL..L.LL.|\n",
    "|..L..L.......L.|\n",
    "|.....L.....L...|\n",
    "|..L....L....L..|\n",
    "|..LLL..L.LLLL..|\n",
    "|..L.L..L..L....|\n",
    "|..L....L....L..|\n",
    "|.....L.....L...|\n",
    "-----------------\n",
    "\"\"\"\n",
    "\n",
    "simple_room = \"\"\"\n",
    "...............\n",
    "...............\n",
    "...............\n",
    "...............\n",
    "...............\n",
    "...............\n",
    "...............\n",
    "...............\n",
    "...............\n",
    "...............\n",
    "\"\"\"\n",
    "\n",
    "simple_maze = \"\"\"\n",
    "||||||||||||||||||||||\n",
    "|....................|\n",
    "|..|||||.....|..|....|\n",
    "|..|   |...||||||||..|\n",
    "|..||| |........|....|\n",
    "|.....| |||||||.|||..|\n",
    "|.....|       |.|....|\n",
    "|.....|       |......|\n",
    "|||||||  ||||||......|\n",
    "         |.......|...|\n",
    "         |.......|||.|\n",
    "         |...........|\n",
    "         |||||||||||||\n",
    "\"\"\""
   ],
   "id": "909faac70065c4f1",
   "outputs": [],
   "execution_count": null
  },
  {
   "cell_type": "code",
   "id": "46a588854939b00a",
   "metadata": {},
   "source": [
    "env = create_env(make_map(lava_maze, 5), apple_reward=0.75, penalty_time=-0.1)"
   ],
   "outputs": [],
   "execution_count": null
  },
  {
   "cell_type": "code",
   "id": "a5e054f73915690c",
   "metadata": {},
   "source": "simulate_online(env, a_star_online, save_dir=\"./lava_star/\", gif_name=str(time.time()))",
   "outputs": [],
   "execution_count": null
  },
  {
   "cell_type": "code",
   "id": "673273978cfd2c3a",
   "metadata": {},
   "source": "env = create_env(\"simple_maze.des\", apple_reward=1)",
   "outputs": [],
   "execution_count": null
  },
  {
   "cell_type": "code",
   "source": [
    "simulate_online(env, planner_online, wait_time=0.5, clear_outputs=True, cropped=True, save_dir=\"./simple_maze_explore/\",\n",
    "                gif_name='mcts_' + str(time.time()), planner_func=mcts,\n",
    "                iterations=10000)"
   ],
   "id": "1f2abc773ef8f302",
   "metadata": {},
   "outputs": [],
   "execution_count": null
  },
  {
   "cell_type": "code",
   "source": [
    "env = create_env(make_map(simple_maze, 5, premapped=False, start=(3, 6), stairs=(10, 10)), apple_reward=0.75,\n",
    "                 penalty_time=-0.1)\n",
    "simulate_online(env, planner_online, wait_time=0.5, clear_outputs=True, cropped=True,\n",
    "                planner_func=beam_search_apple, beam_width=5, apple_reward=7.5)"
   ],
   "id": "9517d14518cce769",
   "metadata": {},
   "outputs": [],
   "execution_count": null
  },
  {
   "metadata": {},
   "cell_type": "code",
   "source": [
    "complex_maze = \"\"\"\n",
    "               |||||||||||||||||\n",
    " ||||||||||    |...............|\n",
    " |........|    |............|..|\n",
    " |........|    |............|..|\n",
    " ||||||...|    |..|||||..||||..|\n",
    "      |...|    |..|   |........|\n",
    "      |...|    |..|   |........|  ||||||\n",
    "|||||||...||||||..|   |.....||||  |....|\n",
    "|.................|   |.....|     |....|\n",
    "|...||||....|..|..|   |.....|||||||....|\n",
    "|....| |..|||||||.|   |................|\n",
    "|....| |.......|..|   |................|\n",
    "|....| |||||||.||.|   |....||||||||....|\n",
    "|....|       |.|..|   |....|      |....|\n",
    "|....|       |....|   |....||||   |....|\n",
    "||||||  ||||||....|   |.......|   ||||||\n",
    "        |......|..|   |.......|\n",
    "        |......||.|   |.......|\n",
    "        |.........|   |||||||||\n",
    "        |||||||||||\n",
    "\"\"\"\n",
    "env = create_env(make_map(complex_maze, 5, premapped=False, start=(3, 6), stairs=(37, 13)), apple_reward=5,\n",
    "                 penalty_time=-0.1)\n"
   ],
   "id": "61fa501ec7098490",
   "outputs": [],
   "execution_count": null
  },
  {
   "metadata": {},
   "cell_type": "code",
   "source": [
    "simulate_online(env, planner_online, wait_time=0.5, clear_outputs=True, cropped=True,\n",
    "                save_dir=\"./complex_maze_explore/\",\n",
    "                gif_name='beam_' + str(time.time()),\n",
    "                planner_func=beam_search_apple, beam_width=5, apple_reward=7.5)"
   ],
   "id": "354c4eb263f62149",
   "outputs": [],
   "execution_count": null
  },
  {
   "metadata": {},
   "cell_type": "code",
   "source": "",
   "id": "43d5c85ff3ec55d8",
   "outputs": [],
   "execution_count": null
  }
 ],
 "metadata": {
  "kernelspec": {
   "display_name": "mh",
   "language": "python",
   "name": "python3"
  },
  "language_info": {
   "codemirror_mode": {
    "name": "ipython",
    "version": 3
   },
   "file_extension": ".py",
   "mimetype": "text/x-python",
   "name": "python",
   "nbconvert_exporter": "python",
   "pygments_lexer": "ipython3",
   "version": "3.12.11"
  }
 },
 "nbformat": 4,
 "nbformat_minor": 5
}
