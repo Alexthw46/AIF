{
 "cells": [
  {
   "cell_type": "code",
   "execution_count": null,
   "id": "19020373b957fad9",
   "metadata": {},
   "outputs": [],
   "source": [
    "import time\n",
    "\n",
    "from simulator import *\n",
    "from algorithms import *\n",
    "from algorithms_2 import *\n",
    "from MCTS import *"
   ]
  },
  {
   "cell_type": "code",
   "execution_count": null,
   "id": "initial_id",
   "metadata": {},
   "outputs": [],
   "source": [
    "lava_maze = \"\"\"\n",
    "-----------------\n",
    "|..L....L....L..|\n",
    "|..L..LLL..L.LL.|\n",
    "|..L..L.......L.|\n",
    "|.....L.....L...|\n",
    "|..L....L....L..|\n",
    "|..LLL..L.LLLL..|\n",
    "|..L.L..L..L....|\n",
    "|..L....L....L..|\n",
    "|.....L.....L...|\n",
    "-----------------\n",
    "\"\"\"\n",
    "\n",
    "simple_room = \"\"\"\n",
    "...............\n",
    "...............\n",
    "...............\n",
    "...............\n",
    "...............\n",
    "...............\n",
    "...............\n",
    "...............\n",
    "...............\n",
    "...............\n",
    "\n",
    "\"\"\""
   ]
  },
  {
   "cell_type": "code",
   "execution_count": null,
   "id": "a94f91b6128195fc",
   "metadata": {},
   "outputs": [],
   "source": [
    "map = make_map(map_str=lava_maze, n_apples=5, seed=18)\n",
    "print(map)"
   ]
  },
  {
   "cell_type": "code",
   "execution_count": null,
   "id": "eae1b1a5a2567c86",
   "metadata": {},
   "outputs": [],
   "source": [
    "env = create_env(map, apple_reward=0.75, penalty_time=-0.1)\n",
    "env.reset()\n",
    "env.render()"
   ]
  },
  {
   "cell_type": "code",
   "execution_count": null,
   "id": "f509047a97d86141",
   "metadata": {},
   "outputs": [],
   "source": [
    "# A star with bonus to tiles that have apples nearby\n",
    "simulate_with_heuristic(env, a_star_apple, h=manhattan_distance, apple_bonus=3)"
   ]
  },
  {
   "cell_type": "code",
   "execution_count": null,
   "id": "0918e500-3954-46a4-896f-234c718cc5e8",
   "metadata": {},
   "outputs": [],
   "source": [
    "# A* with modified heuristic that considers the distance to apples then stairs\n",
    "simulate_with_heuristic(env, a_star_collect_apples, weight=1)"
   ]
  },
  {
   "cell_type": "code",
   "execution_count": null,
   "id": "7dbb59f83c8011b9",
   "metadata": {},
   "outputs": [],
   "source": [
    "# Monte Carlo with Random\n",
    "simulate_with_heuristic(\n",
    "    env, mcts, iterations=50000\n",
    ")"
   ]
  },
  {
   "cell_type": "code",
   "execution_count": null,
   "id": "f5e68143bd52207b",
   "metadata": {},
   "outputs": [],
   "source": [
    "# Monte Carlo Tree Search with heuristic\n",
    "simulate_with_heuristic(\n",
    "    env, mcts, iterations=50000, policy=heuristic_rollout_policy,\n",
    ")"
   ]
  },
  {
   "cell_type": "code",
   "execution_count": null,
   "id": "837acc3a75859c72",
   "metadata": {},
   "outputs": [],
   "source": [
    "# Beam Search\n",
    "simulate_with_heuristic(\n",
    "    env, beam_search_path_planner, apple_reward=7.5,\n",
    "    beam_width=5\n",
    ")"
   ]
  },
  {
   "cell_type": "code",
   "execution_count": null,
   "id": "4f84422d35c7d493",
   "metadata": {},
   "outputs": [],
   "source": [
    "# Potential fields\n",
    "simulate_with_heuristic(\n",
    "    env, potential_field_path\n",
    ")"
   ]
  },
  {
   "metadata": {},
   "cell_type": "code",
   "source": [
    "simulate_with_heuristic(\n",
    "    env, greedy_best_first_search\n",
    ")"
   ],
   "id": "c969b3bb23fdd335",
   "outputs": [],
   "execution_count": null
  },
  {
   "metadata": {},
   "cell_type": "code",
   "source": [
    "from MCTS_2 import mcts\n",
    "\n",
    "mcts = simulate_with_heuristic(env, mcts,\n",
    "                               iterations=10000,\n",
    "                               heuristic=None,  # Using cached BFS as heuristic\n",
    "                               )"
   ],
   "id": "ccdf91ff2d91ea28",
   "outputs": [],
   "execution_count": null
  },
  {
   "metadata": {},
   "cell_type": "markdown",
   "id": "a820837e42ef1547",
   "metadata": {},
   "source": [
    "# Online Pathfinding Algorithms"
   ]
  },
  {
   "metadata": {
    "ExecuteTime": {
     "end_time": "2025-06-22T17:43:57.502455Z",
     "start_time": "2025-06-22T17:43:54.025515Z"
    }
   },
   "cell_type": "code",
   "execution_count": 1,
   "id": "909faac70065c4f1",
   "metadata": {},
   "outputs": [],
   "source": [
    "from algorithms_online import *\n",
    "from simulator import create_env, make_map, simulate_online\n",
    "from simulator import *\n",
    "from algorithms import greedy_best_first_search, potential_field_path\n",
    "\n",
    "lava_maze = \"\"\"\n",
    "-----------------\n",
    "|..L....L....L..|\n",
    "|..L..LLL..L.LL.|\n",
    "|..L..L.......L.|\n",
    "|.....L.....L...|\n",
    "|..L....L....L..|\n",
    "|..LLL..L.LLLL..|\n",
    "|..L.L..L..L....|\n",
    "|..L....L....L..|\n",
    "|.....L.....L...|\n",
    "-----------------\n",
    "\"\"\"\n",
    "\n",
    "simple_room = \"\"\"\n",
    "...............\n",
    "...............\n",
    "...............\n",
    "...............\n",
    "...............\n",
    "...............\n",
    "...............\n",
    "...............\n",
    "...............\n",
    "...............\n",
    "\"\"\"\n",
    "\n",
    "simple_maze = \"\"\"\n",
    "||||||||||||||||||||||\n",
    "|....................|\n",
    "|..|||||.....|..|....|\n",
    "|..|   |...||||||||..|\n",
    "|..||| |........|....|\n",
    "|.....| |||||||.|||..|\n",
    "|.....|       |.|....|\n",
    "|.....|       |......|\n",
    "|||||||  ||||||......|\n",
    "         |.......|...|\n",
    "         |.......|||.|\n",
    "         |...........|\n",
    "         |||||||||||||\n",
    "\"\"\""
   ]
  },
  {
   "cell_type": "code",
   "execution_count": 2,
   "id": "46a588854939b00a",
   "metadata": {},
   "outputs": [],
   "source": [
    "env = create_env(make_map(lava_maze, 5), apple_reward=0.75, penalty_time=-0.1)"
   ]
  },
  {
   "cell_type": "code",
   "execution_count": 3,
   "id": "a5e054f73915690c",
   "metadata": {},
   "outputs": [
    {
     "name": "stdout",
     "output_type": "stream",
     "text": [
      "Evaluating path...\n",
      "Actions to take: ['UP', 'UP']\n",
      "Apple collected in the path: 1\n",
      "Expected Reward:  1.45\n",
      "                                                                               \n",
      "                                                                               \n",
      "                                                                               \n",
      "                                                                               \n",
      "                                                                               \n",
      "                              -----------------                                \n",
      "                              |..}...%}....}..|                                \n",
      "                              |..}..}}}..}.}}%|                                \n",
      "                              |..}.A}.......}.|                                \n",
      "                              |....*}.%..%}...|                                \n",
      "                              |..}.@..}...>}..|                                \n",
      "                              |..}}}..}.}}}}..|                                \n",
      "                              |..}.}..}..}....|                                \n",
      "                              |..}....}....}..|                                \n",
      "                              |.....}.....}...|                                \n",
      "                              -----------------                                \n",
      "                                                                               \n",
      "                                                                               \n",
      "                                                                               \n",
      "                                                                               \n",
      "                                                                               \n"
     ]
    },
    {
     "ename": "KeyboardInterrupt",
     "evalue": "",
     "output_type": "error",
     "traceback": [
      "\u001b[31m---------------------------------------------------------------------------\u001b[39m",
      "\u001b[31mKeyboardInterrupt\u001b[39m                         Traceback (most recent call last)",
      "\u001b[36mCell\u001b[39m\u001b[36m \u001b[39m\u001b[32mIn[3]\u001b[39m\u001b[32m, line 1\u001b[39m\n\u001b[32m----> \u001b[39m\u001b[32m1\u001b[39m \u001b[43msimulate_online\u001b[49m\u001b[43m(\u001b[49m\u001b[43menv\u001b[49m\u001b[43m,\u001b[49m\u001b[43m \u001b[49m\u001b[43ma_star_online\u001b[49m\u001b[43m)\u001b[49m\n",
      "\u001b[36mFile \u001b[39m\u001b[32m~/AIF/simulator.py:126\u001b[39m, in \u001b[36msimulate_online\u001b[39m\u001b[34m(env, fun, clear_outputs, wait_time, cropped, **kwargs)\u001b[39m\n\u001b[32m    124\u001b[39m actions = actions_from_path(start, path[\u001b[32m1\u001b[39m:]) \u001b[38;5;28;01mif\u001b[39;00m path \u001b[38;5;129;01mis\u001b[39;00m \u001b[38;5;129;01mnot\u001b[39;00m \u001b[38;5;28;01mNone\u001b[39;00m \u001b[38;5;28;01melse\u001b[39;00m []\n\u001b[32m    125\u001b[39m simulate_path(path, game_map, actions)\n\u001b[32m--> \u001b[39m\u001b[32m126\u001b[39m \u001b[43mtime\u001b[49m\u001b[43m.\u001b[49m\u001b[43msleep\u001b[49m\u001b[43m(\u001b[49m\u001b[43mwait_time\u001b[49m\u001b[43m)\u001b[49m\n\u001b[32m    127\u001b[39m \u001b[38;5;28;01mfor\u001b[39;00m action \u001b[38;5;129;01min\u001b[39;00m actions:\n\u001b[32m    128\u001b[39m     \u001b[38;5;66;03m# check where the apples are before moving\u001b[39;00m\n\u001b[32m    129\u001b[39m     apple_positions = np.where(np.vectorize(\u001b[38;5;28mchr\u001b[39m)(s[\u001b[33m'\u001b[39m\u001b[33mchars\u001b[39m\u001b[33m'\u001b[39m]) == \u001b[33m'\u001b[39m\u001b[33m%\u001b[39m\u001b[33m'\u001b[39m)\n",
      "\u001b[31mKeyboardInterrupt\u001b[39m: "
     ]
    },
    {
     "data": {
      "image/png": "[encoded data removed]",
      "text/plain": [
       "<Figure size 640x480 with 1 Axes>"
      ]
     },
     "metadata": {},
     "output_type": "display_data"
    }
   ],
   "source": [
    "simulate_online(env, a_star_online)"
   ]
  },
  {
   "cell_type": "code",
   "execution_count": 4,
   "id": "673273978cfd2c3a",
   "metadata": {},
   "outputs": [],
   "source": [
    "env = create_env(\"simple_maze.des\", apple_reward=1)"
   ]
  },
  {
   "cell_type": "code",
   "source": [
    "simulate_online(env, montecarlo_online, wait_time=0.5, clear_outputs=True, cropped=True, iterations=10000,\n",
    "                heuristic=cached_bfs)"
   ],
   "id": "1f2abc773ef8f302",
   "outputs": [],
   "execution_count": null
  },
  {
   "cell_type": "code",
   "source": [
    "simulate_online(env, beam_search_online, wait_time=0.5, clear_outputs=True, cropped=True,\n",
    "                beam_width=5)"
   ],
   "id": "61fa501ec7098490",
   "outputs": [],
   "source": []
  }
 ],
 "metadata": {
  "kernelspec": {
   "display_name": "mh",
   "language": "python",
   "name": "python3"
  },
  "language_info": {
   "codemirror_mode": {
    "name": "ipython",
    "version": 3
   },
   "file_extension": ".py",
   "mimetype": "text/x-python",
   "name": "python",
   "nbconvert_exporter": "python",
   "pygments_lexer": "ipython3",
   "version": "3.12.11"
  }
 },
 "nbformat": 4,
 "nbformat_minor": 5
}
