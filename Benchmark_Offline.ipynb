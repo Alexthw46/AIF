{
 "cells": [
  {
   "metadata": {},
   "cell_type": "markdown",
   "source": [
    "# Simple Room Environment\n",
    "We start from the simple room, no obstacles and fully observable. Agent's target are the stairs, but it will get a reward for eating apples."
   ],
   "id": "23e19fdb7affff82"
  },
  {
   "metadata": {},
   "cell_type": "code",
   "source": [
    "from simulator import *\n",
    "\n",
    "simple_room = \"\"\"\n",
    "...............\n",
    "...............\n",
    "...............\n",
    "...............\n",
    "...............\n",
    "...............\n",
    "...............\n",
    "...............\n",
    "...............\n",
    "...............\n",
    "\"\"\"\n",
    "\n",
    "simple_room_env = create_env(make_map(simple_room, 5, premapped=True, start=(0, 0)), apple_reward=0.75,\n",
    "                             penalty_time=-0.1)"
   ],
   "id": "dbc51ba82c1d4d57",
   "outputs": [],
   "execution_count": null
  },
  {
   "metadata": {},
   "cell_type": "markdown",
   "source": [
    "# Lava Room Environment\n",
    "We then move to the lava room, where the agent has to avoid lava tiles while trying to reach the stairs and collect apples.\n",
    "This is a more complex environment, where the agent has to account for obstacles on its way.\n",
    "For this environment, we also use a bfs-based distance since the manhattan distance can't account for the lava tiles."
   ],
   "id": "66e388f8d6039a2f"
  },
  {
   "metadata": {},
   "cell_type": "code",
   "source": [
    "lava_maze = \"\"\"\n",
    "-----------------\n",
    "|..L....L....L..|\n",
    "|..L..LLL..L.LL.|\n",
    "|..L..L.......L.|\n",
    "|.....L.....L...|\n",
    "|..L....L....L..|\n",
    "|..LLL..L.LLLL..|\n",
    "|..L.L..L..L....|\n",
    "|..L....L....L..|\n",
    "|.....L.....L...|\n",
    "-----------------\n",
    "\"\"\"\n",
    "\n",
    "lava_room_env = create_env(make_map(lava_maze, 5, premapped=True, start=(0, 0)), apple_reward=0.75, penalty_time=-0.1)"
   ],
   "id": "49ebcf66efc33779",
   "outputs": [],
   "execution_count": null
  },
  {
   "metadata": {},
   "cell_type": "markdown",
   "source": [
    "# Benchmarking Offline Pathfinding Algorithms\n",
    "## A* Star-based Algorithms\n",
    "We tried two approaches based on A* Star algorithm:\n",
    "* Forcing the agent to path from apple to apple, using the A* Star algorithm, then to the stairs.\n",
    "    * This is a greedy approach, where the agent will always try to reach the nearest apple first until all apples are collected.\n",
    "* Finding a path to the stairs, but with a Weighted A* Star algorithm modified to gives more weight to tiles with/near apples.\n",
    "    * This is a more exploratory approach, where the agent will try to find a path to the stairs, but will also try to collect apples along the way without being greedy.\n",
    "    * Uses two parameters: `weight` and `apple_bonus`. The `weight` is the weight of the heuristic, while the `apple_bonus` is the bonus given to tiles with/near apples."
   ],
   "id": "9293b8a630da37f0"
  },
  {
   "metadata": {},
   "cell_type": "code",
   "source": [
    "from algorithms import *\n",
    "\n",
    "env = simple_room_env\n",
    "# A star with bonus to tiles that have apples nearby\n",
    "simulate_with_heuristic(env, a_star_apple, heuristic=manhattan_distance, apple_bonus=3)"
   ],
   "id": "61b69fc01cd2a11e",
   "outputs": [],
   "execution_count": null
  },
  {
   "metadata": {},
   "cell_type": "markdown",
   "source": [
    "## Monte Carlo Tree Search (MCTS)\n",
    "\n",
    "Without relying on heuristic, we can use MCTS to explore the environment and find a path to the stairs while collecting apples. The MCTS will simulate multiple paths and choose the one that maximizes the reward.\n",
    "\n"
   ],
   "id": "b43c3e982d6d73d9"
  },
  {
   "metadata": {},
   "cell_type": "markdown",
   "source": "## Greedy Best First Search\n",
   "id": "da996859e626b2ee"
  },
  {
   "metadata": {},
   "cell_type": "markdown",
   "source": [
    "## Potential Fields\n",
    "Mostly used in robotics, potential fields can be used to guide the agent"
   ],
   "id": "327d09a5c0ae5bbd"
  },
  {
   "metadata": {},
   "cell_type": "markdown",
   "source": [
    "## Beam Search\n",
    "\n",
    "Beam search is a heuristic search algorithm that explores a graph by expanding the most promising nodes in a limited set. It is similar to breadth-first search but only keeps a limited number of best nodes at each level."
   ],
   "id": "ba6c76a30facd256"
  }
 ],
 "metadata": {
  "kernelspec": {
   "display_name": "Python 3",
   "language": "python",
   "name": "python3"
  },
  "language_info": {
   "codemirror_mode": {
    "name": "ipython",
    "version": 2
   },
   "file_extension": ".py",
   "mimetype": "text/x-python",
   "name": "python",
   "nbconvert_exporter": "python",
   "pygments_lexer": "ipython2",
   "version": "2.7.6"
  }
 },
 "nbformat": 4,
 "nbformat_minor": 5
}
